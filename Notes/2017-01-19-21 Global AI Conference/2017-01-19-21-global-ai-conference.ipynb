{
 "cells": [
  {
   "cell_type": "markdown",
   "metadata": {},
   "source": [
    "# Global AI Conference 2017\n",
    "\n",
    "## Agenda\n",
    "\n",
    "### Day - 1 (January 19th 8:00AM-7:00PM)\n",
    "- **8:00 AM - 9:00 AM** Registration\n",
    "- **9:00 AM - 9:40AM** General Keynote: The State of AI (Jim Mchugh, VP, Nvidia)\n",
    "- **9:40 AM - 10:20AM Technical Track : Embeddable Deep Pose Estimation (Alex Londeree, Data Scientist, Knit Health)\n",
    "- **10:20AM - 10:40AM** Break\n",
    "- **10:40 AM - 11:20AM** Technical Track: Using NLP, Machine Learning & Deep Learning algorithms to extract meaning from text (David Talby, VP, Atigeo)\n",
    "- **11:20 AM - 12:00PM** Keynote Use Case Track: Conversational AI in Amazon Alexa (Ashwin Ram, Sr. Manager, AI Science, Amazon Alexa, Amazon)\n",
    "- **12:00 PM - 1:0PM** Lunch Break\n",
    "- **1:00PM - 1:40PM** Use Case Track : AI in Medicine (Anthony Chang, Director, CHOC Children's Medical Intelligence and Innovation Institute)\n",
    "- **1:40PM - 2:20PM** Technical Track: Machine Learning at Scale (Aditya Kalro, Manager, Facebook)\n",
    "- **2:20PM - 3:00PM** Technical Track : Deep Learning for Image Understanding at Scale (Stacey Svetlichnaya, Software Engineer, Yahoo)\n",
    "- **3:00PM - 3:30PM** Afternoon Break\n",
    "- **3:30PM - 4:10PM** SecurityTrack :  Security.AI: The role of security assistants to protect corporations and individuals in a cloud, mobile and IOT world(Srini Gurrapu, VP, Skyhigh Networks) \n",
    "- **4:10PM - 4:50PM** Use Case Track : Distributed ML, the Pervasive Edge, Fog and Cloud Architecture for IoT (Gyana Dash, Sr. Manager, Cisco & Milind Naphade, Director Cognitive Systems, Cisco)\n",
    "- **4:50PM - 5:45PM** Keynote Panel: The Future of Artificial Intelligence - Carrie Solinger (Industry Analyst, IDC), Michael Natusch (Global Head of AI, Prudential), Bhairav Mehta (Manager, Apple), Rashad Moataz (CEO, DeepVu), Bill Reichert (Managing Director, Garage Technology Ventures), Jessica Groopman (Industry Analyst, Tractica) - Moderator\n",
    "- **5:45PM - 7:00PM** PM RECEPTION\n",
    "\n",
    "### Day -2 (January 20th 7:45AM-6:30PM)\n",
    "- **7:45 AM - 9:00 AM** Registration\n",
    "- **9:00 AM - 9:40 AM** General Keynote Session: From vision to reality – Artificial Intelligence in the Enterprise (Michael Natusch, Global Head of AI, Prudential)\n",
    "- **9:40 AM - 10:20 AM** General Track: Artificial Intelligence Combined with Deep Learning (Bryan Bell, Executive Vice President, Expert System)\n",
    "- **10:20AM - 10:40AM** Break\n",
    "- **10:40 AM - 11:20 AM** Use Case Track: Using Ontologies and NLP to Diagnose and Address Logistics Challenges in Global Pharmaceutical Supply Chains (Elisa Kendall, Partner, Thematix)\n",
    "- **11:20 AM - 12:00 PM** General Session: Defending the Planet with Machine Learning (James Parr, Director, NASA FDL)\n",
    "- **12:00 PM - 1:00PM** Lunch Break\n",
    "- **1:00 PM - 1:40PM** Technical Track : AI Based Data Extraction (George Roth, CEO, Recognos)\n",
    "- **Use Case Track :  IoT and Healthcare – Designing a New System to Predict Adverse Reactions (Aneema Rawat, Director, NTT Innovation Institute)\n",
    "- **1:40 PM - 2:20 PM** Use Case Track : Extracting profiles for People, Organizations and Beyond: Summarization on Steroids (Tatiana Erekhinskaya, Research Scientist, Lymba Corporation)\n",
    "- **2:20 PM - 3:00 PM** Technical  Track: Comparing Deep Learning frameworks (Jeffrey Shomaker, Founder, 21SP)\n",
    "- **3:00PM - 3:30PM** Break\n",
    "- **3:30 PM - 4:10 PM** General Session Track : The 7 Myths of AI (Robin Bordol, CEO, CrowdFlower)\n",
    "- **Technical Track : Unlocking true Artificial Intelligence with Quantum Mechanics (Mounir Shita, CEO, Kimera)\n",
    "- **4:10 PM - 4:50 PM** Technical Track: Real-time streaming data analysis with HTM (Yuwei Cui,  Artificial Intelligence Researcher, Numenta)\n",
    "- **4:50 PM - 6:00 PM** Keynote Panel: Solving Business Problems With AI\n",
    "- **Alexy Khabrov, Chief Scientist, Cicero.AI (Moderator)\n",
    "- **Alexander Tsyplikhin, Co-founder and COO, Data Monsters\n",
    "- **Christopher Moody, Data Scientist, Stitch Fix\n",
    "- **Michael Feng, Director, Nitro \n",
    "- **Delip Rao, Founder, Joostware \n",
    "- **Eldar Sadikov, CEO, Jetlore\n",
    "- **Michelle Casbon, Director, Qordoba\n",
    "- **4:50 PM - 5:30 PM** General Track:  Product Development with AI & ML(Kumar Srivastava, VP, BNY Mellon)\n",
    "- **5:30 PM - 6:00 PM** Use Case Track: Application of ML to reinvent debt collection (Richard Yeung, Head of Data Science, TrueAccord)\n",
    "- **6:00 PM - 6:30 PM** Use Case Track : Using Natural Language Understanding To Map The World (Nadav Gur, Founder, Servo Labs)\n",
    "\n",
    "### Day -3 (January 21st 7:45AM-6:40PM)\n",
    "- **7:45AM - 8:00 AM** Registration \n",
    "- **8:00AM - 9:00 AM** Fast Data: Big Data Analytics Using Streams (Vladimir Bacvanski, Founder, SciSpike)\n",
    "- **9:00AM - 10:00 AM** TensorFlow in the Wild (Kaz Sato, Lead Developer Evangelist, Google)\n",
    "- **10:00AM - 12:00 PM** Workshop: Spark Streaming with Kafka\n",
    "- **12:00 PM - 1:00PM** Lunch Break\n",
    "- **1:00PM - 3:00PM** Workshop: Spark Streaming with Kafka (Contd..)\n",
    "- **3:00PM - 6:00PM** Workshop: 3-hour Applied Tensorflow (Rumman Chowdhury, Senior Data Scientist, Metis)\n",
    "- **6:00PM - 6:40PM** Technical Track: Filling in Missing Data: Matrix Completion (Mustafa Eisa, Data Scientist, CBJ Global & Ahmed Bakhaty, Computational Engineer, CBJ Global)\n",
    "- **- See more at: http://globalbigdataconference.com/santa-clara/global-artificial-intelligence-conference/schedule-83.html#sthash.2Lsm4uN0.dpuf"
   ]
  },
  {
   "cell_type": "code",
   "execution_count": null,
   "metadata": {
    "collapsed": true
   },
   "outputs": [],
   "source": []
  }
 ],
 "metadata": {
  "anaconda-cloud": {},
  "kernelspec": {
   "display_name": "Python [default]",
   "language": "python",
   "name": "python3"
  },
  "language_info": {
   "codemirror_mode": {
    "name": "ipython",
    "version": 3
   },
   "file_extension": ".py",
   "mimetype": "text/x-python",
   "name": "python",
   "nbconvert_exporter": "python",
   "pygments_lexer": "ipython3",
   "version": "3.5.2"
  }
 },
 "nbformat": 4,
 "nbformat_minor": 1
}
