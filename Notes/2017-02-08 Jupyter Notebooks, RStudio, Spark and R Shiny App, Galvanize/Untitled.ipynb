{
 "cells": [
  {
   "cell_type": "markdown",
   "metadata": {},
   "source": [
    "# Jupyter Notebooks, RStudio, Spark and R Shiny App, Galvanize\n",
    "\n",
    "# Thomas, IBM\n",
    "\n",
    "- IBM\n",
    "    - Created a tool that integrates\n",
    "        - R\n",
    "        - Python\n",
    "- BlocPower\n",
    "    - [Blog Link](http://ibm.co/29KLbvu)\n",
    "- [Data Science Experience](http://datascience.ibm.com/)\n",
    "    - Integrates: RStudio & Data Science Experience\n",
    "- Data Scientist: Algorithms, data, telling the stories\n",
    "- Data Engineer: ETL, gets data cleansed for the DS"
   ]
  }
 ],
 "metadata": {
  "kernelspec": {
   "display_name": "Python 3",
   "language": "python",
   "name": "python3"
  },
  "language_info": {
   "codemirror_mode": {
    "name": "ipython",
    "version": 3
   },
   "file_extension": ".py",
   "mimetype": "text/x-python",
   "name": "python",
   "nbconvert_exporter": "python",
   "pygments_lexer": "ipython3",
   "version": "3.5.1"
  }
 },
 "nbformat": 4,
 "nbformat_minor": 0
}
