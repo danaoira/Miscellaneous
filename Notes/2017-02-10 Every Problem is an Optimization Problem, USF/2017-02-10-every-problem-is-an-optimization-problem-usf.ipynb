{
 "cells": [
  {
   "cell_type": "markdown",
   "metadata": {},
   "source": [
    "# Every Data Science Problem is an Optimization Problem: and other lessons from the trenches.\n",
    "\n",
    "## Speaker: Brad Null, Chief Scientist, Reputation.com\n",
    "\n",
    "- The field of Data Science is still quite nascent. We are all learning as we go, and not only are we far from a generalized understanding of Data Science best practices, we don't even have a consensus on what a Data Scientist is and does. But we've learned a few things so far, and in this talk I want to share some guiding principles I've come to live by as a Data Scientist and a few of the learning experiences that have crystallized these principles. The title of the talk refers to one of these principles, (\"every data science problem is an optimization problem\"), and figuring out the right objective function (hint: it is probably not minimizing mean squared error) can have massive consequences on how you want to structure and approach that problem.\n",
    "- Brad Null is the Chief Scientist and head of the Data Science team at Reputation.com, the leader in online reputation management. His team is responsible for analyzing a unique corpus of online and offline information (e.g. reviews, surveys, social, and other content) about companies in over 80 industries and determining what that means to those companies and how they should respond. He is also the founder of Voodoo Sports, where he assembled a team to build and maintain cutting edge sports data products leveraging his 10+ years of experience in sports analytics, including his PhD thesis \"Stochastic Modeling and Optimization in Baseball.\" "
   ]
  },
  {
   "cell_type": "markdown",
   "metadata": {},
   "source": [
    "## Intro\n",
    "\n",
    "- Data Institute Conference website up!  October 2017\n",
    "- Brad Null, Reputation.com\n",
    "    - PhD: Stochastic Modeling and Optimization in Baseball\n",
    "\n",
    "## Presentation\n",
    "\n",
    "- ML = Advanced Algorithms\n",
    "    - Examples\n",
    "        - Support Vector\n",
    "        - Regularized Regression\n",
    "        - Rand Forest\n",
    "        - Boosted Trees\n",
    "    - Being Commoditized\n",
    "        - How good those models are => another talk\n",
    "    - Easy to implement\n",
    "    - Fundamental building block for data scientists right now: \"scikit-learn, tensor flow, NLTK\"\n",
    "- ML = Revolutionary\n",
    "    - \"Solving\" big problems\n",
    "    - At the doorstep of \"true\" AI\n",
    "- ML = Overhyped (the counterpoint)\n",
    "    - Making progress on well-defined problems\n",
    "    - BUT\n",
    "        - None of those problems he works on are not well-defined\n",
    "    - If you think your problem is well-defined, question if you really understand the problem\n",
    "    - Lots of important problems we are still stuck at\n",
    "        - Determining the value of each user\n",
    "        - Predicting value-add of each feature or asset\n",
    "- What is DS?\n",
    "    - ML commonly assoc'd w/ Modeling\n",
    "    - ML not yet good at\n",
    "        - BO: Business Objectives\n",
    "        - PF: Problem Formulation\n",
    "    - Need to get BO/PF right\n",
    "- I. Every Problem is an Optimization Problem\n",
    "    - Another definition of DS\n",
    "        - \"We solve problems\"\n",
    "        - Bring math and data to bear on real-world problems\n",
    "    - That's our first job\n",
    "        - Formulate a problem given BO\n",
    "        - Objective Function is the most important part of the problem (Dantzig)\n",
    "    - Example: Acquiring Baseball Players\n",
    "        - How to value baseball players in order to draft the best ones for your team (or fantasy team)\n",
    "        - Problem: The winner's curse\n",
    "        - Issue: You don't get the players you valued the most => get who you value more than anyone else\n",
    "        - You aren't trying to predict player perf => Trying to find udnervalued assets\n",
    "        - **What to do**\n",
    "            - Residual analysis => Examine bias in your model\n",
    "            - Fix your objective function\n",
    "            - Reverse engineer the market => Understand what everyone else is doing and how to improve on it\n",
    "    - Example: March Madness Optimization\n",
    "        - Problem: Want to win a March Madness pool\n",
    "        - Approach #1: Predict who will win each game\n",
    "        - Issue: Not max EV, but max chances of winning your pool\n",
    "    - Example: Ad\n",
    "- II. Everything is Stochastic\n",
    "    - Point estimates are over-rated\n",
    "    - Anywhere you compute a point estimate you can compute a posterior distribution\n",
    "    - Example: MLB Player Valuation\n",
    "        - ** Add slide notes**\n",
    "    - Things change\n",
    "    - Example: MLB Park Factors and League Averages\n",
    "        - Important components toa  predictive model of baseball\n",
    "        - Can change regularly (HR rate up 30% last 2 years)\n",
    "- III. Fail Fast\n",
    "    - Entrenched entrepreneurship / consumer product mantra\n",
    "        - Don't know what will resonate\n",
    "        - Build Minimally Viable Product (MVP)\n",
    "        - Market Test\n",
    "        - Learn\n",
    "        - Iterate\n",
    "        - Repeat\n",
    "    - Most steps may fail to advance key metrics\n",
    "        - YOu will learn along the way and move forward in big chunks\n",
    "    - Same approach works for DS\n",
    "        - Models are limitless\n",
    "        - Build MVP\n",
    "        - Evaluate\n",
    "            - How good is the solution?\n",
    "            - Is it good enough? What is good enough?\n",
    "            - What variables are missing? (Residual analysis)\n",
    "        - What improvement will provide the maximum ROI\n",
    "            - Direction of steepest ascent (Optimization!)\n",
    "        - Build, eval, explore\n",
    "        - Rinse, wash, repeat\n",
    "    - **A lot of the things we try fail**\n",
    "        - The faster we move, the more we try to learn along the way\n",
    "    - So many things you can learn at each step\n",
    "        - How accurate is your solution\n",
    "            - Getting first model out there is important => You need a baseline\n",
    "            - If you don't know how to approach the model, you don't know how the problem\n",
    "            - Even trying to simplest first and even failing but learning fast is valuable\n",
    "    - We are not just prioritizing the next step wrt this problem, but the next problem to work on\n",
    "    - Especially useful for PhDs\n",
    "    - Nt just iterate fast but iterate simple\n",
    "- IV. Everything is Connected\n",
    "    - Couterbalance to \"Fail Fast\"\n",
    "        - Don't want simplistic models\n",
    "        - Want foundational models\n",
    "    - Example: Hierachical stochastic model of baseball\n",
    "        - Graphic\n",
    "        - By understanding the whole system, we can\n",
    "            - Predict real-time/ in-game\n",
    "            - Optimize on every level\n",
    "            \n",
    "- http://reputation.com/careers\n",
    "    - Operational insights: manage online presence for companies\n",
    "    - NLP classification\n",
    "    - ROI analysis\n",
    "- Q: Fail Fast\n",
    "    - As you're getting more complex, you need to add more value\n",
    "    - If you're not making and progress on any problem, you move on to other problem\n",
    "    - If you're not convinced that there's something there, there might not be value => do other problems\n",
    "- Q: Does size/amount of data matter?\n",
    "    - Can work with problems in any size of data\n",
    "    - No minimum requirement needed"
   ]
  },
  {
   "cell_type": "code",
   "execution_count": 4,
   "metadata": {
    "collapsed": false
   },
   "outputs": [
    {
     "name": "stdout",
     "output_type": "stream",
     "text": [
      "// Test\n",
      "digraph {\n",
      "\tA [label=Hello]\n",
      "}\n"
     ]
    }
   ],
   "source": [
    "from graphviz import Digraph\n",
    "\n",
    "dot = Digraph(comment='Test')\n",
    "dot.node('A', 'Hello')\n",
    "print(dot.source)"
   ]
  },
  {
   "cell_type": "code",
   "execution_count": 5,
   "metadata": {
    "collapsed": false
   },
   "outputs": [
    {
     "ename": "RuntimeError",
     "evalue": "failed to execute ['dot', '-Tpdf', '-O', 'Digraph.gv'], make sure the Graphviz executables are on your systems' path",
     "output_type": "error",
     "traceback": [
      "\u001b[1;31m---------------------------------------------------------------------------\u001b[0m",
      "\u001b[1;31mFileNotFoundError\u001b[0m                         Traceback (most recent call last)",
      "\u001b[1;32mc:\\python35\\lib\\site-packages\\graphviz\\files.py\u001b[0m in \u001b[0;36mrender\u001b[1;34m(self, filename, directory, view, cleanup)\u001b[0m\n\u001b[0;32m    218\u001b[0m         \u001b[1;32mtry\u001b[0m\u001b[1;33m:\u001b[0m\u001b[1;33m\u001b[0m\u001b[0m\n\u001b[1;32m--> 219\u001b[1;33m             \u001b[0mproc\u001b[0m \u001b[1;33m=\u001b[0m \u001b[0msubprocess\u001b[0m\u001b[1;33m.\u001b[0m\u001b[0mPopen\u001b[0m\u001b[1;33m(\u001b[0m\u001b[0mcmd\u001b[0m\u001b[1;33m,\u001b[0m \u001b[0mstartupinfo\u001b[0m\u001b[1;33m=\u001b[0m\u001b[0mSTARTUPINFO\u001b[0m\u001b[1;33m)\u001b[0m\u001b[1;33m\u001b[0m\u001b[0m\n\u001b[0m\u001b[0;32m    220\u001b[0m         \u001b[1;32mexcept\u001b[0m \u001b[0mOSError\u001b[0m \u001b[1;32mas\u001b[0m \u001b[0me\u001b[0m\u001b[1;33m:\u001b[0m\u001b[1;33m\u001b[0m\u001b[0m\n",
      "\u001b[1;32mc:\\python35\\lib\\subprocess.py\u001b[0m in \u001b[0;36m__init__\u001b[1;34m(self, args, bufsize, executable, stdin, stdout, stderr, preexec_fn, close_fds, shell, cwd, env, universal_newlines, startupinfo, creationflags, restore_signals, start_new_session, pass_fds)\u001b[0m\n\u001b[0;32m    949\u001b[0m                                 \u001b[0merrread\u001b[0m\u001b[1;33m,\u001b[0m \u001b[0merrwrite\u001b[0m\u001b[1;33m,\u001b[0m\u001b[1;33m\u001b[0m\u001b[0m\n\u001b[1;32m--> 950\u001b[1;33m                                 restore_signals, start_new_session)\n\u001b[0m\u001b[0;32m    951\u001b[0m         \u001b[1;32mexcept\u001b[0m\u001b[1;33m:\u001b[0m\u001b[1;33m\u001b[0m\u001b[0m\n",
      "\u001b[1;32mc:\\python35\\lib\\subprocess.py\u001b[0m in \u001b[0;36m_execute_child\u001b[1;34m(self, args, executable, preexec_fn, close_fds, pass_fds, cwd, env, startupinfo, creationflags, shell, p2cread, p2cwrite, c2pread, c2pwrite, errread, errwrite, unused_restore_signals, unused_start_new_session)\u001b[0m\n\u001b[0;32m   1219\u001b[0m                                          \u001b[0mcwd\u001b[0m\u001b[1;33m,\u001b[0m\u001b[1;33m\u001b[0m\u001b[0m\n\u001b[1;32m-> 1220\u001b[1;33m                                          startupinfo)\n\u001b[0m\u001b[0;32m   1221\u001b[0m             \u001b[1;32mfinally\u001b[0m\u001b[1;33m:\u001b[0m\u001b[1;33m\u001b[0m\u001b[0m\n",
      "\u001b[1;31mFileNotFoundError\u001b[0m: [WinError 2] The system cannot find the file specified",
      "\nDuring handling of the above exception, another exception occurred:\n",
      "\u001b[1;31mRuntimeError\u001b[0m                              Traceback (most recent call last)",
      "\u001b[1;32m<ipython-input-5-dc238ed59dab>\u001b[0m in \u001b[0;36m<module>\u001b[1;34m()\u001b[0m\n\u001b[1;32m----> 1\u001b[1;33m \u001b[0mdot\u001b[0m\u001b[1;33m.\u001b[0m\u001b[0mrender\u001b[0m\u001b[1;33m(\u001b[0m\u001b[1;33m)\u001b[0m\u001b[1;33m\u001b[0m\u001b[0m\n\u001b[0m",
      "\u001b[1;32mc:\\python35\\lib\\site-packages\\graphviz\\files.py\u001b[0m in \u001b[0;36mrender\u001b[1;34m(self, filename, directory, view, cleanup)\u001b[0m\n\u001b[0;32m    222\u001b[0m                 raise RuntimeError('failed to execute %r, '\n\u001b[0;32m    223\u001b[0m                     \u001b[1;34m'make sure the Graphviz executables '\u001b[0m\u001b[1;33m\u001b[0m\u001b[0m\n\u001b[1;32m--> 224\u001b[1;33m                     'are on your systems\\' path' % cmd)\n\u001b[0m\u001b[0;32m    225\u001b[0m             \u001b[1;32melse\u001b[0m\u001b[1;33m:\u001b[0m  \u001b[1;31m# pragma: no cover\u001b[0m\u001b[1;33m\u001b[0m\u001b[0m\n\u001b[0;32m    226\u001b[0m                 \u001b[1;32mraise\u001b[0m\u001b[1;33m\u001b[0m\u001b[0m\n",
      "\u001b[1;31mRuntimeError\u001b[0m: failed to execute ['dot', '-Tpdf', '-O', 'Digraph.gv'], make sure the Graphviz executables are on your systems' path"
     ]
    }
   ],
   "source": [
    "dot.render()"
   ]
  }
 ],
 "metadata": {
  "kernelspec": {
   "display_name": "Python 3",
   "language": "python",
   "name": "python3"
  },
  "language_info": {
   "codemirror_mode": {
    "name": "ipython",
    "version": 3
   },
   "file_extension": ".py",
   "mimetype": "text/x-python",
   "name": "python",
   "nbconvert_exporter": "python",
   "pygments_lexer": "ipython3",
   "version": "3.5.1"
  }
 },
 "nbformat": 4,
 "nbformat_minor": 0
}
