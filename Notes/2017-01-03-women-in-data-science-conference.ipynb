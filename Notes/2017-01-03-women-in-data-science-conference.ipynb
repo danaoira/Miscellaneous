{
 "cells": [
  {
   "cell_type": "markdown",
   "metadata": {},
   "source": [
    "# WiDS Conference\n",
    "\n",
    "Host: Women in Big Data\n",
    "Location: Intel SC12\n",
    "\n",
    "## Welcome Note\n",
    "- Site: www.womeninbigdata.org\n",
    "- WIBD Forum Video\n",
    "    - Hurdles => Women are the minority\n",
    "    \n",
    "### Schedule\n",
    "- 9:00 Opening Remarks\n",
    "- 9:10 Welcome Address\n",
    "- 9:30 Morning Keynote\n",
    "- 10:10 Break\n",
    "- 10:15 Technical Vision Talks\n",
    "- 10:55 Break\n",
    "- 11:10 Technical Vision Talks\n",
    "- 12:10 Netowrking Lunch\n",
    "- 1:40 Afternoon Keynote\n",
    "- 2:20 Break\n",
    "- 2:25 Technical Vision Talks\n",
    "- 3:05 Break\n",
    "- 3:20 Career Panel\n",
    "- 4:14 Technical Vision Talks\n",
    "- 4:55 Closing Remarks"
   ]
  },
  {
   "cell_type": "markdown",
   "metadata": {
    "collapsed": false
   },
   "source": [
    "## Welcome Address\n",
    "\n",
    "- \"It's never been a better time to be a woman in Data Science.\"\n",
    "- \"Focus on your strengths and how you can apply those further can be an efficient way to have an impact.\""
   ]
  },
  {
   "cell_type": "markdown",
   "metadata": {
    "collapsed": true
   },
   "source": [
    "## Morning Keynote\n",
    "\n",
    "Anne Green, Google\n",
    "\n",
    "- \"Data is clearly changing the world.\"\n",
    "- Personal Story\n",
    "    - Sailboating\n",
    "    - Professor offered to be her adviser\n",
    "    - Texas A&M -> Vermont\n",
    "    - MIT-> Naval Architecture\n",
    "    - SF -> Designing for oil rigs\n",
    "    - SoCal -> Worked for Engineering wind surfing sails\n",
    "    - UC Berkeley -> MS Computer Science + bf \"boring life happened!\" => husband is a Stanford professor\n",
    "    - Sybase\n",
    "    - Tandem Computers\n",
    "    - VXTreme\n",
    "    - VMWare (10 years) -> Founded by her husband's grad students\n",
    "    - More startups & joined boards (Intuit)\n",
    "    - Joined board of Google (now AlphaBid)\n",
    "    - Worked on Google Cloud architecture\n",
    "    - Google Cloud\n",
    "        - BigQuery\n",
    "            - Spotify: Queries from 4 hours -> 12 seconds\n",
    "            - Home Depot: 400TB data warehouse migration\n",
    "        - Pokemon GO: What they did was 50x what they predicted what they would do\n",
    "- How Google makes ML accessible\n",
    "    - Democratize AI\n",
    "    - Make it easy to use for everyone in the world\n",
    "    - TensorFlow\n",
    "- Future of Infrastructure\n",
    "    - I(ntelligence)aaS\n",
    "    - AI Controlled\n",
    "    - Active research (DeepMind)\n",
    "- Closing Remarks\n",
    "    - \"Pay attention to what excites you.\"\n",
    "    - Encourage people to put worries behind you and go forward\n",
    "- Q&A\n",
    "    - Q: What skillset for people starting out in DS?\n",
    "        - Engineering & the more detailed you get about something helps you replicate it\n",
    "        - Depends on what you want to optimize for...\n",
    "            - Money: ML for Financial Services\n",
    "            - Helping the world: Health\n",
    "    - Q: ML on job displacement. How should society react to that? What socieconomical effects?\n",
    "        - Skilled people won't lose their jobs\n",
    "        - It's all about training\n",
    "        - Be computer-literate\n",
    "        - Important for young people to get a good education\n",
    "        - Value older people too\n",
    "    - Q: How will DS affect the developing world (ie. South America)?\n",
    "        - Makes resources available to everyone in the world\n",
    "        - ML getting easier and easier to use\n",
    "    - Q: Frigility.. how will the world function if power goes down?\n",
    "\n",
    "Internet code: 55408553"
   ]
  },
  {
   "cell_type": "code",
   "execution_count": null,
   "metadata": {
    "collapsed": true
   },
   "outputs": [],
   "source": [
    "\n"
   ]
  }
 ],
 "metadata": {
  "kernelspec": {
   "display_name": "Python 3",
   "language": "python",
   "name": "python3"
  },
  "language_info": {
   "codemirror_mode": {
    "name": "ipython",
    "version": 3
   },
   "file_extension": ".py",
   "mimetype": "text/x-python",
   "name": "python",
   "nbconvert_exporter": "python",
   "pygments_lexer": "ipython3",
   "version": "3.5.1"
  }
 },
 "nbformat": 4,
 "nbformat_minor": 0
}
