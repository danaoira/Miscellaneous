{
 "cells": [
  {
   "cell_type": "markdown",
   "metadata": {},
   "source": [
    "# Statistical Foundations for DS and MS\n",
    "\n",
    "- Host: Metis\n",
    "\n",
    "## Welcome\n",
    "\n",
    "- Newest offerings: Statistical Foundations for DS and MS\n",
    "- Greg: Former Director of Data Science @ Tesla, Faraday\n",
    "- A lot of DS in general\n",
    "    - Know ML, Python\n",
    "    - Not Statistics\n",
    "    - Q: Can you construct a 95% interval?\n",
    "        - What's a CI?\n",
    "        - What's a p-value\n",
    "    - Things DS should know:\n",
    "        - Statistical modeling\n",
    "        - Hypothesis testiing\n",
    "    - Worrisome when someone doesn't know the math behind it\n",
    "    \n",
    "    - [Metis Statistical Foundations Course](https://thisismetis.com/statistical-foundations)\n",
    "\n",
    "- Progra Overview\n",
    "    - Classes\n",
    "        - 6: Categorical Data => Not all data is linear\n",
    "        - 7: Further regression\n",
    "        - 8: Correlation & Causation\n",
    "        - 9: A/B Testing => Hypothesis Testing\n",
    "        - 10: Sample Size & Power Calculation\n",
    "        - 11:\n",
    "            - Bootsrapping\n",
    "            - Fisher's => For smaller samples\n",
    "        - 12: Expectation\n",
    "\n",
    "    - The point is: Using Models is not a mechanical thing => Really develop the statistical intuition behind this\n",
    "        - When you're fitting these models, you know what they're doing"
   ]
  },
  {
   "cell_type": "markdown",
   "metadata": {},
   "source": [
    "## Monty Hall Problem\n",
    "\n",
    "P(A|B) = P(A&B)/P(B) = P(B|A)(P(A)/P(B)\n",
    "\n",
    "=> **Bayes' Theorem**\n",
    "\n",
    "> **The machine is there to verify what you're doing, not to prove it true.**"
   ]
  },
  {
   "cell_type": "markdown",
   "metadata": {},
   "source": [
    "## P-Values & Confidence Intervals\n",
    "\n",
    "### **6.5.3 p-Values**\n",
    "\n",
    "> Since it is important to avoid a Type I error (rejecting H0 when it is actually valid), and the\n",
    "probability of making this error is the level of signifcance alpha, it is helpful to have some guidance\n",
    "in choosing alpha. For this reason, we introduce the concept of a p-value, which is defned to be\n",
    "the smallest value of signifcance at which H0 will be rejected, assuming it is true. (Exceprt from Statistical Analysis with R)\n",
    "\n",
    "How do you interpret this?\n",
    "\n",
    "- Under the null, what is the distribution of the p-value?\n",
    "    - => Uniform(0, 1)\n",
    "- Distributions\n",
    "    - Normal\n",
    "    - Uniform\n",
    "    - Binomial\n",
    "- Cumulative density function\n",
    "- F() = Distribution\n",
    "- T = Statistic (x-bar)\n",
    "- z = 1 - F(T)\n",
    "- P(Z <= z)\n",
    "    - = P(1 - F(T) <= z)\n",
    "    - = P(1 - z <= F(T))\n",
    "    - = P(F^-1 (1 - z) <= T)\n",
    "    - = 1 - P(F <= F%-1(1 - Z)\n",
    "    - = 1 - F(F^-1(F/Z)\n",
    "    - = Z\n",
    "- P(Z <= z) = z\n",
    "- Why is this important to know?\n",
    "    - He will ask...\n",
    "    - Q: How many tests did you do?\n",
    "    - Q: Are they really significant?"
   ]
  },
  {
   "cell_type": "markdown",
   "metadata": {},
   "source": [
    "### Confidence Intervals\n",
    "\n",
    "- At a 95% CI, I get ...\n",
    "- Law of Large Numbers => Enough of the sample will discover the truth"
   ]
  },
  {
   "cell_type": "markdown",
   "metadata": {},
   "source": [
    "## The Central Limit Theorem\n",
    "\n",
    "### 4.5 The Central Limit Theorem\n",
    "\n",
    "> The behavior in the preceding example is no coincidence; it is actually an illustration of what is\n",
    "known as the *Central Limit Theorem*. This theorem states that as the sample size `n` increases,\n",
    "the sample means tend to converge to a normal distribution around the true population mean,\n",
    "regardless of distribution of the population from which the sample is taken.\n",
    "\n",
    "- No matter what phenomena you're looking at, sum them up, take the average, you get the normal distribution\n",
    "- Average is essentially normally distributed"
   ]
  },
  {
   "cell_type": "markdown",
   "metadata": {},
   "source": [
    "- What you'll get out of the model will be an understanding"
   ]
  },
  {
   "cell_type": "markdown",
   "metadata": {},
   "source": [
    "## Proof Problem\n",
    "- Q: Is 1 = .999999.. ?\n",
    "    - Proof:\n",
    "        - Given 1/3 = .333333..\n",
    "        - Since 1/3 \\* 3 = .999999.. AND 1/3 * 3 = 1\n",
    "        - => 1 = .999999.."
   ]
  },
  {
   "cell_type": "code",
   "execution_count": null,
   "metadata": {
    "collapsed": true
   },
   "outputs": [],
   "source": []
  }
 ],
 "metadata": {
  "kernelspec": {
   "display_name": "Python 3",
   "language": "python",
   "name": "python3"
  },
  "language_info": {
   "codemirror_mode": {
    "name": "ipython",
    "version": 3
   },
   "file_extension": ".py",
   "mimetype": "text/x-python",
   "name": "python",
   "nbconvert_exporter": "python",
   "pygments_lexer": "ipython3",
   "version": "3.5.1"
  }
 },
 "nbformat": 4,
 "nbformat_minor": 0
}
