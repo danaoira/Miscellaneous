{
 "cells": [
  {
   "cell_type": "markdown",
   "metadata": {},
   "source": [
    "# Using Machine Learning to Create a Knowledge Graph of Mankind\n",
    "Dr. Lei Wu, Senior Manager of Data Science @ Ancestry\n",
    "- Friday, January 27, 2017\n",
    "- University of San Francisco\n",
    "\n",
    "\n",
    "+ Kyle Johnson, PhD, Accenture\n",
    "\n",
    "\n",
    "- Agenda\n",
    "    - What Data\n",
    "    - Answers We Get\n",
    "    - Thinking\n",
    "- Which is most important to you? => Friends, Jobs, Family\n",
    "- Ancestry => Building network to discover family info/family history service\n",
    "    - Global leader in family history and consumer genomics\n",
    "    - Green leaves => Hints (recommendation system)\n",
    "- How their research works\n",
    "    - Unstructured data: Collected all the paperwork\n",
    "    - Manually scanned all the paperwork into computers to DB\n",
    "    - OCR => Recognition to extract the data\n",
    "- Record data leads to hints & discoveries\n",
    "    - Content + Tools -> \"Discoveries\"\n",
    "    - Content\n",
    "        - 20 years and $200 mill investment\n",
    "        - 70% proprietary\n",
    "        - 200 record categories\n",
    "        - 18+ billion historical records, 80+ million family trees, 300+ million user-uploaded photos\n",
    "    - Tools\n",
    "        - "
   ]
  }
 ],
 "metadata": {
  "kernelspec": {
   "display_name": "Python 3",
   "language": "python",
   "name": "python3"
  },
  "language_info": {
   "codemirror_mode": {
    "name": "ipython",
    "version": 3
   },
   "file_extension": ".py",
   "mimetype": "text/x-python",
   "name": "python",
   "nbconvert_exporter": "python",
   "pygments_lexer": "ipython3",
   "version": "3.5.1"
  }
 },
 "nbformat": 4,
 "nbformat_minor": 0
}
