{
 "cells": [
  {
   "cell_type": "markdown",
   "metadata": {},
   "source": [
    "# WiDS Conference\n",
    "\n",
    "Host: Women in Big Data\n",
    "Location: Intel SC12\n",
    "\n",
    "## Welcome Note\n",
    "- Site: www.womeninbigdata.org\n",
    "- WIBD Forum Video\n",
    "    - Hurdles => Women are the minority\n",
    "    \n",
    "### Schedule\n",
    "- 9:00 Opening Remarks\n",
    "- 9:10 Welcome Address\n",
    "- 9:30 Morning Keynote\n",
    "- 10:10 Break\n",
    "- 10:15 Technical Vision Talks\n",
    "- 10:55 Break\n",
    "- 11:10 Technical Vision Talks\n",
    "- 12:10 Netowrking Lunch\n",
    "- 1:40 Afternoon Keynote\n",
    "- 2:20 Break\n",
    "- 2:25 Technical Vision Talks\n",
    "- 3:05 Break\n",
    "- 3:20 Career Panel\n",
    "- 4:14 Technical Vision Talks\n",
    "- 4:55 Closing Remarks"
   ]
  },
  {
   "cell_type": "markdown",
   "metadata": {
    "collapsed": false
   },
   "source": [
    "## Welcome Address\n",
    "\n",
    "hello"
   ]
  },
  {
   "cell_type": "code",
   "execution_count": null,
   "metadata": {
    "collapsed": true
   },
   "outputs": [],
   "source": []
  }
 ],
 "metadata": {
  "kernelspec": {
   "display_name": "Python 3",
   "language": "python",
   "name": "python3"
  },
  "language_info": {
   "codemirror_mode": {
    "name": "ipython",
    "version": 3
   },
   "file_extension": ".py",
   "mimetype": "text/x-python",
   "name": "python",
   "nbconvert_exporter": "python",
   "pygments_lexer": "ipython3",
   "version": "3.5.1"
  }
 },
 "nbformat": 4,
 "nbformat_minor": 0
}
