{
 "cells": [
  {
   "cell_type": "markdown",
   "metadata": {},
   "source": [
    "# Introduction to TensorFlow\n",
    "\n",
    "### Installation\n",
    "\n",
    "Your Vagrant box has been loaded with most of the necessary software. If you cannot `import tensorflow as tf`, all you need to do is go to the command line in your Vagrant box and `pip install tensorflow`.\n"
   ]
  },
  {
   "cell_type": "code",
   "execution_count": 5,
   "metadata": {
    "collapsed": false
   },
   "outputs": [
    {
     "name": "stdout",
     "output_type": "stream",
     "text": [
      "100.0\n",
      "Tensor(\"x1_4:0\", shape=(), dtype=float32) Tensor(\"x2_4/read:0\", shape=(), dtype=float32)\n"
     ]
    }
   ],
   "source": [
    "import numpy as np\n",
    "import matplotlib.pyplot as plt\n",
    "import tensorflow as tf\n",
    "%matplotlib inline\n",
    "\n",
    "# Let's do something simple in pure Python\n",
    "\n",
    "x1 = 40.0\n",
    "x2 = x1 * 2.5\n",
    "print x2\n",
    "\n",
    "# Let's do the same thing in TensorFlow\n",
    "\n",
    "# You can name variables however you like using the name argument. \n",
    "# The names are there, so you can see them correctly named in a graph\n",
    "x1 = tf.constant(40.0, name='x1') \n",
    "x2 = tf.Variable(x1 * 2.5, name='x2')\n",
    "print x1, x2\n"
   ]
  },
  {
   "cell_type": "markdown",
   "metadata": {},
   "source": [
    "Notice that it doesn't print out exactly what we want. Instead, it prints out the `__repr__` of TensorFlow objects. TensorFlow uses Symbolic Programming, meaning that TF objects only work with other TF objects. \n",
    "\n",
    "The TensorFlow objects (which are nodes in a computation graph) hold rules to do something but by themselves don't do anything. You need to open a TensorFlow `session` to actually execute the code. \n",
    "\n",
    "You can compare it to Spark, where most of your code builds a graph, but is lazily evaluated until an action causes things to actually execute."
   ]
  },
  {
   "cell_type": "markdown",
   "metadata": {},
   "source": [
    "# Setting up a Session\n",
    "\n",
    "What we need to do to get TensorFlow to execute computations is to set up a Session. This is very much like a Spark session, as indicated above."
   ]
  },
  {
   "cell_type": "code",
   "execution_count": 10,
   "metadata": {
    "collapsed": false
   },
   "outputs": [
    {
     "name": "stdout",
     "output_type": "stream",
     "text": [
      "40.0\n",
      "100.0\n"
     ]
    }
   ],
   "source": [
    "x1 = tf.constant(40.0, name = 'x1') # following along with our data\n",
    "x2 = tf.Variable(x1*2.5, name = 'x2') # generator from earlier\n",
    "\n",
    "model = tf.global_variables_initializer() # needed to initialize all variables\n",
    "\n",
    "with tf.Session() as session: # now that we are inside the session we can \n",
    "                              # evaluate the above variables\n",
    "    session.run(model)\n",
    "    print(session.run(x1))\n",
    "    print(session.run(x2))"
   ]
  },
  {
   "cell_type": "markdown",
   "metadata": {},
   "source": [
    "Notice that this \"with\" syntax is like opening up a file. You need to open a Session to run stuff. Then, you do some stuff. Outside the body of the Session, the Session automatically closes; then, you can't run anything.\n",
    "\n",
    "TensorFlow constants can come in the form of number objects or arrays. Its operations are vectorized just like Numpy:"
   ]
  },
  {
   "cell_type": "code",
   "execution_count": 22,
   "metadata": {
    "collapsed": false
   },
   "outputs": [
    {
     "name": "stdout",
     "output_type": "stream",
     "text": [
      "[array([  25.,   50.,  100.], dtype=float32), array([  62.5,  125. ,  250. ], dtype=float32)]\n",
      "\n",
      "\n",
      "1 2 3 4 5\n"
     ]
    }
   ],
   "source": [
    "# a TensorFlow constants can be just a number or an array\n",
    "x1 = tf.constant([25.0, 50.0, 100.0], name='x1')\n",
    "\n",
    "# operations are vectorized like numpy; x1 and x2 are nodes in a graph\n",
    "x2 = tf.Variable(x1 * 2.5, name='x2')\n",
    "\n",
    "\n",
    "model = tf.global_variables_initializer()\n",
    "\n",
    "with tf.Session() as session:\n",
    "    session.run(model)\n",
    "    print(session.run([x1, x2]))\n",
    "\n",
    "# IMPORTANT: TensorFlow Variables can be modified like Python variables \n",
    "# WITHIN a Session\n",
    "print \"\\n\"\n",
    "\n",
    "x = tf.Variable(0, name='x')\n",
    "model = tf.global_variables_initializer()\n",
    "with tf.Session() as sess:\n",
    "    for i in range(5):\n",
    "        sess.run(model)\n",
    "        x += 1\n",
    "        print(sess.run(x)),    \n"
   ]
  },
  {
   "cell_type": "markdown",
   "metadata": {},
   "source": [
    "## Understanding the Graph Concept\n",
    "\n",
    "tf defines a default graph that is always registered and which can have operations added to it.  You can also define your own graph name as default (for example to carefully control what operations are included in your graph).  [See here for more details](https://www.tensorflow.org/versions/r0.9/api_docs/python/framework.html#Graph)\n",
    "\n",
    "Here's an example:"
   ]
  },
  {
   "cell_type": "code",
   "execution_count": 29,
   "metadata": {
    "collapsed": false
   },
   "outputs": [
    {
     "name": "stdout",
     "output_type": "stream",
     "text": [
      "Tensor(\"x1:0\", shape=(), dtype=float32)\n",
      "Tensor(\"x2/read:0\", shape=(), dtype=float32)\n",
      "\n",
      "\n",
      "80.0\n"
     ]
    }
   ],
   "source": [
    "\"\"\"\n",
    "Again, here the idea is that we create a graph. TensorFlow variables/placeholders \n",
    "as a node in a graph. Each node is creating rules (or logic) to reach the final output.\n",
    "\n",
    "\"\"\"\n",
    "gr = tf.Graph()\n",
    "\n",
    "with gr.as_default():\n",
    "    x1 = tf.constant(40.0, name='x1') \n",
    "    print(x1) # since no session is being run, it just prints that x1 is a TensorFlow object\n",
    "    x2 = tf.Variable(x1 * 2, name='x2')\n",
    "    print(x2)\n",
    "# in this simple graph, all we do is put in a number and then the output is twice that number\n",
    "# x1 is a node, x2 is derived from x1. We need to run a Session so that x2 is evaluated to get an actual number out.\n",
    "\n",
    "print('\\n')\n",
    "\n",
    "# actually running a session here\n",
    "with tf.Session(graph=gr) as sess:\n",
    "    merged = tf.summary.merge_all() # generates a single operation for all nodes\n",
    "    writer = tf.summary.FileWriter(\"/tmp/basic\", sess.graph)\n",
    "    model = tf.global_variables_initializer()\n",
    "    sess.run(model)\n",
    "    print(sess.run(x2)),"
   ]
  },
  {
   "cell_type": "markdown",
   "metadata": {},
   "source": [
    "## Managing sessions\n",
    "\n",
    "A tensorflow session involves supplying data to and executing all or parts of a computation graph - perhaps iteratively.  There are several (two main) equivalent ways to manage execution of a computation graph:  "
   ]
  },
  {
   "cell_type": "markdown",
   "metadata": {},
   "source": [
    "Interactive session is the opposite of the 'with' syntax\n",
    "Here's the 2 syntaxes for opening a file:\n",
    "\n",
    "\n",
    "    with open(filename) as f:\n",
    "        do_something_here\n",
    "\n",
    "    f = open(filename)\n",
    "    do_something_here\n",
    "    f.close()\n",
    "\n",
    "\n",
    "It's the SAME thing with TensorFlow Sessions:\n",
    "\n",
    "    with tf.Session() as sess:\n",
    "        do_something_here\n",
    "\n",
    "    sess = tf.InteractiveSession()\n",
    "    do_something_here\n",
    "    sess.close()\n",
    "\n",
    "With Interactive session, you have to *manually close* the session."
   ]
  },
  {
   "cell_type": "code",
   "execution_count": 31,
   "metadata": {
    "collapsed": false
   },
   "outputs": [
    {
     "name": "stdout",
     "output_type": "stream",
     "text": [
      "[0 1 2 3 4 5 6 7 8 9]\n",
      "[0 1 2 3 4 5 6 7 8 9]\n"
     ]
    }
   ],
   "source": [
    "#Interactive session\n",
    "sess = tf.InteractiveSession() # session opened; body of code underneath\n",
    "\n",
    "x = tf.constant(list(range(10)))\n",
    "print x.eval()\n",
    "print sess.run(x) # remembeer, eval and run are the same; either way works\n",
    "\n",
    "sess.close() # close session\n",
    "\n",
    "# do you think if you uncomment the following code, it will run? try it!\n",
    "#print x.eval()"
   ]
  },
  {
   "cell_type": "markdown",
   "metadata": {},
   "source": [
    "## Some other features of Tensorflow\n",
    "\n",
    "Tensorflow is essentially a full-featured programming environment, much like numpy or Spark. In it are dozens of useful operations, for example matrix multiplication, tensor slicing, and memory evaluation. Some of these are demonstrated in other worksheets, available in the folder."
   ]
  },
  {
   "cell_type": "markdown",
   "metadata": {},
   "source": [
    "# Actually building a ANN with Tensorflow\n",
    "\n",
    "## Placeholders\n",
    "\n",
    "We cannot proceed without talking briefly about placeholders. Placeholders (getting external data and constants into your graph)\n",
    "\"placeholder\" is a data type in tensorflow.  \n",
    "A placeholder is given a name and a dictionary is created with that name as a key. \n",
    "\n",
    "The value associated with the key can be anything you want to pass to your network - a minibatch of input data, a learning rate or a learning rate schedule.  The placeholder gets passed by name around your model (computation graph) and when real data are presented through a dictionary, then it follows the step outlined in your model.  Here's a [link](https://www.tensorflow.org/versions/r0.9/api_docs/python/io_ops.html#placeholder) to the function definition for a placeholder.  \n",
    "\n",
    "As you can see, it's pretty simple.  A data type, a shape and a name. \n",
    "You don't have to fill out all of the arguments of the placeholder.  One reason for filling them in is so that tensorflow error checking will pick up mismatches early.  "
   ]
  },
  {
   "cell_type": "code",
   "execution_count": 34,
   "metadata": {
    "collapsed": false
   },
   "outputs": [
    {
     "name": "stdout",
     "output_type": "stream",
     "text": [
      "[  8.  10.  12.]\n",
      "[[  2.   4.   6.]\n",
      " [  8.  10.  12.]]\n",
      "[[  2.   4.   6.]\n",
      " [  8.  10.  12.]\n",
      " [ 14.  16.  18.]]\n"
     ]
    }
   ],
   "source": [
    "\n",
    "# here we say, create a thing called x that is \"typed\". The type is an array that has 3 float elements.\n",
    "x = tf.placeholder(\"float\", shape=3)\n",
    "y = x * 2\n",
    "\n",
    "with tf.Session() as sess: # open session to do something\n",
    "    result = sess.run(y, feed_dict={x: [4, 5, 6]}) # we are feeding x into y\n",
    "    print(result)\n",
    "    # Notice, the tensorflow placeholder called x doesn't \n",
    "    # inherently have any numbers.\n",
    "    # You have to use feed_dict to pass x some actual numbers, \n",
    "    # so you can evaluate y.\n",
    "    # When you use sess.run(y), the output is actual numbers \n",
    "\n",
    "# Here, x is a 2-dimensional array;\n",
    "# x can have any number of rows. x must have 3 columns\n",
    "x = tf.placeholder(\"float\", shape=(None, 3))\n",
    "y = x * 2 # this operation is vectorized like numpy\n",
    "\n",
    "with tf.Session() as session:\n",
    "    x_data = [[1, 2, 3],\n",
    "              [4, 5, 6],]\n",
    "    result = session.run(y, feed_dict={x: x_data})\n",
    "    print(result)\n",
    "    \n",
    "    x_data = [[1, 2, 3],\n",
    "              [4, 5, 6],\n",
    "              [7, 8, 9]]\n",
    "    result = session.run(y, feed_dict={x: x_data})\n",
    "    print(result)\n",
    "    \n",
    "    #these both work.  \n",
    "    \n",
    "    \n",
    "    # what about this? Uncomment to find out\n",
    "    \"\"\"\n",
    "    x_data = [[1, 2],\n",
    "              [4, 5],\n",
    "              [7, 8]]\n",
    "    result = session.run(y, feed_dict={x: x_data})\n",
    "    print(result)\n",
    "    \"\"\""
   ]
  },
  {
   "cell_type": "markdown",
   "metadata": {},
   "source": [
    "## Building a simple Neural Net in TF\n",
    "\n",
    "Basically you can just copy-paste the numpy version of simple neural net.  Just change out the `np` functions for `tf` functions. "
   ]
  },
  {
   "cell_type": "code",
   "execution_count": 38,
   "metadata": {
    "collapsed": false
   },
   "outputs": [
    {
     "data": {
      "text/plain": [
       "'print Y.shape\\ncolorMap = {0.0: \"blue\", 1.0: \"red\"}\\ncolors = [colorMap[c] for c in Y.reshape(-1)]\\nplt.scatter(X[:, 0], X[:, 1], c=colors)\\nplt.xlabel(\"X1\")\\nplt.ylabel(\"X2\")\\nplt.show()'"
      ]
     },
     "execution_count": 38,
     "metadata": {},
     "output_type": "execute_result"
    }
   ],
   "source": [
    "# Data generator -- purely numpy\n",
    "import numpy as np\n",
    "\n",
    "sd = 0.2\n",
    "nRows = 400\n",
    "X = np.random.uniform(0.0, 1.0, (nRows, 2))\n",
    "noise = np.random.normal(0.0, sd, nRows)\n",
    "idx = X[:, 1] > X[:, 0] + noise\n",
    "Y = np.zeros((nRows, 1))   # You have to be a little more careful \n",
    "# with array shapes here.  Explicitly define as matrix.\n",
    "Y[idx] = 1.0\n",
    "\n",
    "'''print Y.shape\n",
    "colorMap = {0.0: \"blue\", 1.0: \"red\"}\n",
    "colors = [colorMap[c] for c in Y.reshape(-1)]\n",
    "plt.scatter(X[:, 0], X[:, 1], c=colors)\n",
    "plt.xlabel(\"X1\")\n",
    "plt.ylabel(\"X2\")\n",
    "plt.show()'''\n",
    "\n"
   ]
  },
  {
   "cell_type": "markdown",
   "metadata": {},
   "source": [
    "### Implementation of the ANN\n",
    "\n",
    "The paradigm shift in symbolic programming is you don't operate on the data directly; you create graphs (which is just a fancy way of saying logic, i.e. add/subtract/etc). When you are done defining your graph, you start tf.Session() and pass in the actual data (where the graph will perform the logic) to get actual results.  \n",
    "\n",
    "Notice all the below functions use TensorFlow. The reason is that all the inputs are TensorFlow objects (XX, Y, and W). For example, the arguments XX and Y are not actual arrays with numbers; they are placeholders. Inputs are all placeholders. However, the output itself is a node \n",
    "since it doesn't contain any actual numbers. It only containts rules to find the numbers (after inserting data)."
   ]
  },
  {
   "cell_type": "code",
   "execution_count": 40,
   "metadata": {
    "collapsed": true
   },
   "outputs": [],
   "source": [
    "import tensorflow as tf\n",
    "\n",
    "def tfS(XX):\n",
    "    return 1.0 / (1.0 + tf.exp(-XX)) \n",
    "    # notice TensorFlow has many functions like numpy, math, random\n",
    "    # luckily TensorFlow is vectorized like numpy!\n",
    "\n",
    "def tfNeuralNet(XX, W): # if XX is 1000 by 2, then W is 2 by 1 matrix\n",
    "    return tfS(tf.matmul(XX, W)) # output is 1000 by 1 matrix, really column vector\n",
    "    # essentially np.dot(XX, W)\n",
    "\n",
    "def tfLoss(NNO, Y): # NNO stands for neural net output; includes the sigmoid already\n",
    "    return tf.reduce_mean((Y - NNO) ** 2)\n",
    "    # since Y and NNO are both matrices (really just column vectors), \n",
    "    # then reduce_mean gets the mean of entire matrix. In this case, really a column mean\n",
    "\n",
    "def tfGradW(XX, Y, W): # derivative of sigmoid. Vectorized, so finds gradient in matrix form\n",
    "    arg = tf.matmul(XX, W)\n",
    "    terms = -2.0 * (Y - tfS(arg)) * tfS(arg) * tfS(-arg)\n",
    "    # notice that Y - tfS(arg) is column vector, let's say m by 1\n",
    "    # tfS(arg) and tfS(-arg) are both m by n matrices\n",
    "    # hence, (Y - tfS(arg)) * tfS(arg) is elemental multiplication that \n",
    "    # requires broadcasting to larger shape. \n",
    "    # It is not matrix multiplication.\n",
    "    \n",
    "    # ...terms is a m * n matrix.\n",
    "    return tf.reduce_mean((terms * XX), 0)\n",
    "    # reduce_mean with an index of 0, which means column means\n",
    "    # terms elementalwise multiply with XX. Look at each column and get the \n",
    "    # column means output will be 1 by n matrix--this is your gradient vector!\n",
    "\n",
    "## Notes: Need to define W as matrix instead of 1-dimensional array"
   ]
  },
  {
   "cell_type": "code",
   "execution_count": 42,
   "metadata": {
    "collapsed": false
   },
   "outputs": [
    {
     "name": "stdout",
     "output_type": "stream",
     "text": [
      "Tensor(\"Mean_3:0\", shape=(2,), dtype=float32)\n"
     ]
    }
   ],
   "source": [
    "# x and y are both placeholders. They contain no values, only type and shape.\n",
    "x = tf.placeholder(tf.float32, shape=[None, 2], name='x') \n",
    "y = tf.placeholder(tf.float32, shape=[None, 1], name='y') \n",
    "\n",
    "# Notice in this example, W2 is a 2 by 1 matrix of weights\n",
    "# W2 is NOT the scalar that you multiply to x2 in this case.\n",
    "W2 = tf.Variable(tf.zeros((2,1), dtype=tf.float32), name='W2') \n",
    "lr = tf.constant(1.0, dtype=tf.float32, name='lr') # <---- hyper-parameter here: learning rate \n",
    "\n",
    "nno = tfNeuralNet(x, W2) # nno stands for neural net output; includes the sigmoid already, basically, y-hat\n",
    "loss = tfLoss(nno, y) # loss function node\n",
    "grad = tfGradW(x, y, W2) # gradient function node\n",
    "\n",
    "### NOTICE! this is how we update the TensorFlow variable \n",
    "# it updates W2 in-place AND returns actual W2 numbers when inside Session.run()\n",
    "train = W2.assign_add(-lr * tf.reshape(grad, tf.shape(W2)))\n",
    "\n",
    "# The previous lines build the computation graph.\n",
    "# They create the rules of how the neural net will work but notice that\n",
    "# no data is fed in yet.\n",
    "\n",
    "with tf.Session() as sess: # notice the body of this Session is primarily in pure Python, only 2 lines of TensorFlow\n",
    "    result = sess.run(tf.global_variables_initializer()) # TensorFlow here\n",
    "    miniBatchSize = 40 # <---- hyper-parameter here\n",
    "    startEnd = zip(range(0, len(X), miniBatchSize), range(miniBatchSize, len(X) + 1, miniBatchSize))\n",
    "    resultList = [] \n",
    "    nPasses = 50 \n",
    "    for iPass in range(nPasses): \n",
    "        for (s, e) in startEnd:\n",
    "            \n",
    "            result = sess.run([loss, grad, train], feed_dict={x: X[s:e,], y: Y[s:e]}) \n",
    "            \"\"\" MAIN line with TensorFlow: loss is feed-forward,\n",
    "            grad and train are backpropagation. \n",
    "            nno doesn't appear here since \n",
    "            I am not storing the y-hat. \n",
    "            If you want the y-hats, you can \n",
    "            add nno into the list and \n",
    "            save the outputs into result.\n",
    "            \"\"\"\n",
    "            resultList.append(result)\n",
    "\n",
    "print(grad) # value is gone now because outside of Session()\n",
    "\n",
    "# uncomment the following lines. \n",
    "# Do you think you can get the latest gradient values? \n",
    "\n",
    "# with tf.Session() as sess:\n",
    "#     result = sess.run(tf.initialize_all_variables()) # TensorFlow here\n",
    "#     print sess.run([grad, loss, train], feed_dict={x: X, y: Y})\n",
    "\n",
    "# It seems that the data not saved is gone. \n",
    "# The TensorFlow variables hold no values when the Session is over."
   ]
  },
  {
   "cell_type": "markdown",
   "metadata": {},
   "source": [
    "## Extracting the results"
   ]
  },
  {
   "cell_type": "code",
   "execution_count": 43,
   "metadata": {
    "collapsed": false
   },
   "outputs": [
    {
     "name": "stdout",
     "output_type": "stream",
     "text": [
      "0.048382\n"
     ]
    }
   ],
   "source": [
    "# from left to right:\n",
    "# [0] to get results from the first iteration, \n",
    "# [1] to get element index 1, which is the gradient vector\n",
    "# [0] to get element index 0 , which is dLoss / dW1\n",
    "print resultList[0][1][0]"
   ]
  },
  {
   "cell_type": "markdown",
   "metadata": {},
   "source": [
    "Interpret the following command from the `resultList`:"
   ]
  },
  {
   "cell_type": "code",
   "execution_count": 44,
   "metadata": {
    "collapsed": false
   },
   "outputs": [
    {
     "data": {
      "text/plain": [
       "[0.25, array([ 0.048382 , -0.0468775], dtype=float32), array([[-0.048382 ],\n",
       "        [ 0.0468775]], dtype=float32)]"
      ]
     },
     "execution_count": 44,
     "metadata": {},
     "output_type": "execute_result"
    }
   ],
   "source": [
    "resultList[0]"
   ]
  },
  {
   "cell_type": "code",
   "execution_count": 45,
   "metadata": {
    "collapsed": false
   },
   "outputs": [
    {
     "name": "stdout",
     "output_type": "stream",
     "text": [
      "loss history\n"
     ]
    },
    {
     "data": {
      "image/png": "[encoded data removed]",
      "text/plain": [
       "<matplotlib.figure.Figure at 0x10d526e50>"
      ]
     },
     "metadata": {},
     "output_type": "display_data"
    },
    {
     "name": "stdout",
     "output_type": "stream",
     "text": [
      "weight histories\n"
     ]
    },
    {
     "data": {
      "image/png": "[encoded data removed]",
      "text/plain": [
       "<matplotlib.figure.Figure at 0x10cfbbf90>"
      ]
     },
     "metadata": {},
     "output_type": "display_data"
    },
    {
     "name": "stdout",
     "output_type": "stream",
     "text": [
      "gradient histories\n"
     ]
    },
    {
     "data": {
      "image/png": "[encoded data removed]",
      "text/plain": [
       "<matplotlib.figure.Figure at 0x10e233210>"
      ]
     },
     "metadata": {},
     "output_type": "display_data"
    }
   ],
   "source": [
    "# extract gradients, losses and weights\n",
    "# This essentially flattens resultList\n",
    "gTup = [(rl[0], rl[1][0], rl[1][1], rl[2][0], rl[2][1]) for rl in resultList]\n",
    "# This puts all the gradients together, same for loss and weights\n",
    "[loss, g0, g1, w0, w1] = zip(*gTup) # use of the * operator\n",
    "\n",
    "\n",
    "xAxis = np.array(range(len(resultList)))\n",
    "#plot loss\n",
    "print 'loss history'\n",
    "plt.plot(xAxis, loss)\n",
    "plt.show()\n",
    "\n",
    "#plot weight histories\n",
    "print 'weight histories'\n",
    "plt.plot(xAxis, w0)\n",
    "plt.plot(xAxis, w1)\n",
    "plt.show()\n",
    "\n",
    "#Plot gradient histories\n",
    "print 'gradient histories'\n",
    "plt.plot(xAxis, g0)\n",
    "plt.plot(xAxis, g1)\n",
    "plt.show()"
   ]
  },
  {
   "cell_type": "markdown",
   "metadata": {},
   "source": [
    "### Getting the final Weights"
   ]
  },
  {
   "cell_type": "code",
   "execution_count": 46,
   "metadata": {
    "collapsed": false
   },
   "outputs": [
    {
     "data": {
      "text/plain": [
       "<matplotlib.text.Text at 0x10e3d48d0>"
      ]
     },
     "execution_count": 46,
     "metadata": {},
     "output_type": "execute_result"
    },
    {
     "data": {
      "image/png": "[encoded data removed]",
      "text/plain": [
       "<matplotlib.figure.Figure at 0x10e016750>"
      ]
     },
     "metadata": {},
     "output_type": "display_data"
    }
   ],
   "source": [
    "# Extract the latest weights from w0 and w1 which are just \n",
    "# python lists, cannot recover the latest weights\n",
    "# using the graph without running the entire neural net again\n",
    "\n",
    "actual_weights = np.array([w0[-1][0], w1[-1][0]]).reshape(2, 1) # actual numpy array\n",
    "\n",
    "# Here's how you would extract y-hats at the last iteration \n",
    "# if you are fancy and want to use TensorFlow\n",
    "with tf.Session() as sess:\n",
    "    x_axis, y_axis = sess.run([tf.matmul(x,W2), # just X.dot(Weights) \n",
    "                               nno], # just Sigmoid(X.dot(Weights))\n",
    "                              feed_dict={x: X, W2: actual_weights}) # feed in actual data into the nodes\n",
    "\n",
    "# outside of Session\n",
    "colorMap = {0.0: \"blue\", 1.0: \"red\"}\n",
    "colors = [colorMap[c] for c in Y.reshape(-1)]\n",
    "plt.scatter(x_axis, Y, c=colors, alpha=0.2)    \n",
    "plt.scatter(x_axis, y_axis, c=colors, alpha=0.2)\n",
    "plt.xlabel(\"w0 * X0 + w1 * X1\")\n",
    "plt.ylabel(\"Y-Hats: Sigmoid(w0 * X0 + w1 * X1)\")\n",
    "# The notation with w0 and w1 pair and w1 and w2 \n",
    "# pair for weights are not consistent.\n",
    "# In any case, it just means there are 2 weights, \n",
    "# one for each of the two columns of the X matrix"
   ]
  },
  {
   "cell_type": "markdown",
   "metadata": {},
   "source": [
    "## Additional Discussion:\n",
    "\n",
    "**Backpropagation:** All of the above is very, very nice, but we often hear of ANNs with dozens of layers and thousands of nodes per layer (deep learning). How to do that?\n",
    "\n",
    "    data = tf.placeholder(tf.float32)\n",
    "    var = tf.Variable(...)              # Must be a tf.float32 or tf.float64 variable.\n",
    "    loss = some_function_of(var, data)  # some_function_of() returns a `Tensor`.\n",
    "    var_grad = tf.gradients(loss, [var])[0]\n",
    "\n",
    "The [`tf.gradients()`](https://www.tensorflow.org/versions/master/api_docs/python/train/#gradients) function will autocalculate the derivatives for us based on the [graph structure](http://colah.github.io/posts/2015-08-Backprop/).\n",
    "\n",
    "[**MNIST Case Study**](https://www.tensorflow.org/tutorials/mnist/beginners/)\n",
    "\n",
    "[**Deep Learning with Spark**](https://databricks.com/blog/2016/01/25/deep-learning-with-apache-spark-and-tensorflow.html)"
   ]
  },
  {
   "cell_type": "code",
   "execution_count": null,
   "metadata": {
    "collapsed": true
   },
   "outputs": [],
   "source": []
  }
 ],
 "metadata": {
  "kernelspec": {
   "display_name": "Python 2",
   "language": "python",
   "name": "python2"
  },
  "language_info": {
   "codemirror_mode": {
    "name": "ipython",
    "version": 2
   },
   "file_extension": ".py",
   "mimetype": "text/x-python",
   "name": "python",
   "nbconvert_exporter": "python",
   "pygments_lexer": "ipython2",
   "version": "2.7.11"
  }
 },
 "nbformat": 4,
 "nbformat_minor": 0
}
