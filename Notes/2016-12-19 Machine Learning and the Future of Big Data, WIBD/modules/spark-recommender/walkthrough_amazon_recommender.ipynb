{
 "cells": [
  {
   "cell_type": "code",
   "execution_count": 1,
   "metadata": {
    "ExecuteTime": {
     "end_time": "2016-12-03T14:02:52.654422",
     "start_time": "2016-12-03T14:02:52.583674"
    },
    "collapsed": false
   },
   "outputs": [],
   "source": [
    "import pyspark\n",
    "from pyspark.sql.types import *\n",
    "import pyspark.ml.recommendation\n",
    "from pyspark.ml.recommendation import *\n",
    "import pyspark.ml.evaluation\n",
    "from pyspark.ml.evaluation import *\n",
    "import numpy as np"
   ]
  },
  {
   "cell_type": "code",
   "execution_count": 2,
   "metadata": {
    "ExecuteTime": {
     "end_time": "2016-12-03T14:02:55.794629",
     "start_time": "2016-12-03T14:02:55.764983"
    },
    "collapsed": false
   },
   "outputs": [
    {
     "data": {
      "text/plain": [
       "(<pyspark.context.SparkContext at 0x1006768d0>,\n",
       " <pyspark.sql.session.SparkSession at 0x1072f6750>)"
      ]
     },
     "execution_count": 2,
     "metadata": {},
     "output_type": "execute_result"
    }
   ],
   "source": [
    "sc, spark"
   ]
  },
  {
   "cell_type": "code",
   "execution_count": 3,
   "metadata": {
    "ExecuteTime": {
     "end_time": "2016-12-03T14:02:58.049647",
     "start_time": "2016-12-03T14:02:57.914384"
    },
    "collapsed": false
   },
   "outputs": [
    {
     "name": "stdout",
     "output_type": "stream",
     "text": [
      "data\r\n",
      "├── README\r\n",
      "├── audioscrobbler\r\n",
      "│   ├── README.txt\r\n",
      "│   ├── artist_alias.txt\r\n",
      "│   ├── artist_data.txt\r\n",
      "│   └── user_artist_data.txt\r\n",
      "├── meta_Musical_Instruments.json.gz\r\n",
      "├── meta_Patio_Lawn_and_Garden.json.gz\r\n",
      "├── meta_Pet_Supplies.json.gz\r\n",
      "├── ratings_Pet_Supplies.csv\r\n",
      "├── reviews_Musical_Instruments_5.json.gz\r\n",
      "├── reviews_Patio_Lawn_and_Garden_5.json.gz\r\n",
      "└── reviews_Pet_Supplies_5.json.gz\r\n",
      "\r\n",
      "1 directory, 12 files\r\n"
     ]
    }
   ],
   "source": [
    "# If you don't have the tree command, you can install it with:\n",
    "#   Mac: brew install tree\n",
    "#   Ubuntu: sudo apt-get install tree\n",
    "\n",
    "!tree data"
   ]
  },
  {
   "cell_type": "code",
   "execution_count": 4,
   "metadata": {
    "ExecuteTime": {
     "end_time": "2016-12-03T14:03:27.445061",
     "start_time": "2016-12-03T14:03:27.307872"
    },
    "collapsed": false
   },
   "outputs": [
    {
     "name": "stdout",
     "output_type": "stream",
     "text": [
      "ratings_Category_Name.csv\r\n",
      "-------------------------\r\n",
      "reviewerID,asin,overall,unixReviewTime\r\n"
     ]
    }
   ],
   "source": [
    "!cat data/README"
   ]
  },
  {
   "cell_type": "code",
   "execution_count": 5,
   "metadata": {
    "ExecuteTime": {
     "end_time": "2016-12-03T14:04:13.520595",
     "start_time": "2016-12-03T14:04:03.762686"
    },
    "collapsed": true
   },
   "outputs": [],
   "source": [
    "# Load data files\n",
    "raw_reviews_df = spark.read.json(\"data/reviews_Pet_Supplies_5.json.gz\")\n",
    "raw_ratings_df = spark.read.csv(\"data/ratings_Pet_Supplies.csv\")\n",
    "raw_meta_df = spark.read.json(\"data/meta_Pet_Supplies.json.gz\")"
   ]
  },
  {
   "cell_type": "code",
   "execution_count": 6,
   "metadata": {
    "ExecuteTime": {
     "end_time": "2016-12-03T14:04:15.453268",
     "start_time": "2016-12-03T14:04:15.417974"
    },
    "collapsed": false
   },
   "outputs": [
    {
     "name": "stdout",
     "output_type": "stream",
     "text": [
      "root\n",
      " |-- asin: string (nullable = true)\n",
      " |-- helpful: array (nullable = true)\n",
      " |    |-- element: long (containsNull = true)\n",
      " |-- overall: double (nullable = true)\n",
      " |-- reviewText: string (nullable = true)\n",
      " |-- reviewTime: string (nullable = true)\n",
      " |-- reviewerID: string (nullable = true)\n",
      " |-- reviewerName: string (nullable = true)\n",
      " |-- summary: string (nullable = true)\n",
      " |-- unixReviewTime: long (nullable = true)\n",
      "\n"
     ]
    }
   ],
   "source": [
    "# Show the schema of raw_reviews_df\n",
    "raw_reviews_df.printSchema()"
   ]
  },
  {
   "cell_type": "code",
   "execution_count": 8,
   "metadata": {
    "ExecuteTime": {
     "end_time": "2016-12-03T14:06:10.497353",
     "start_time": "2016-12-03T14:06:10.480137"
    },
    "collapsed": false
   },
   "outputs": [
    {
     "name": "stdout",
     "output_type": "stream",
     "text": [
      "root\n",
      " |-- _c0: string (nullable = true)\n",
      " |-- _c1: string (nullable = true)\n",
      " |-- _c2: string (nullable = true)\n",
      " |-- _c3: string (nullable = true)\n",
      "\n"
     ]
    }
   ],
   "source": [
    "# Show the schema of raw_ratings_df\n",
    "raw_ratings_df.printSchema()"
   ]
  },
  {
   "cell_type": "code",
   "execution_count": 9,
   "metadata": {
    "ExecuteTime": {
     "end_time": "2016-12-03T14:08:20.213507",
     "start_time": "2016-12-03T14:08:20.168055"
    },
    "collapsed": false
   },
   "outputs": [
    {
     "name": "stdout",
     "output_type": "stream",
     "text": [
      "root\n",
      " |-- reviewerID: string (nullable = true)\n",
      " |-- asin: string (nullable = true)\n",
      " |-- overall: float (nullable = true)\n",
      " |-- unixReviewTime: integer (nullable = true)\n",
      "\n"
     ]
    }
   ],
   "source": [
    "# Create a custom schema for the ratings data\n",
    "ratings_schema = StructType( [\n",
    "    StructField('reviewerID', StringType(), True),\n",
    "    StructField('asin', StringType(), True),\n",
    "    StructField('overall', FloatType(), True),\n",
    "    StructField('unixReviewTime', IntegerType(), True)\n",
    "        ])\n",
    "\n",
    "raw_ratings_df = spark.read.csv(\"data/ratings_Pet_Supplies.csv\",\n",
    "                               schema=ratings_schema)\n",
    "\n",
    "raw_ratings_df.printSchema()"
   ]
  },
  {
   "cell_type": "code",
   "execution_count": 10,
   "metadata": {
    "ExecuteTime": {
     "end_time": "2016-12-03T14:08:49.457672",
     "start_time": "2016-12-03T14:08:43.722727"
    },
    "collapsed": false
   },
   "outputs": [
    {
     "data": {
      "text/plain": [
       "[Row(reviewerID=u'A1FESJ7QIPXPWM', asin=u'B00331A94U', overall=1.0, unixReviewTime=1399161600),\n",
       " Row(reviewerID=u'A2TENSV1MP7MFZ', asin=u'B008WN4L8Y', overall=4.0, unixReviewTime=1389657600),\n",
       " Row(reviewerID=u'AFX5POZ1MK4MR', asin=u'B0009YWLCM', overall=5.0, unixReviewTime=1294790400),\n",
       " Row(reviewerID=u'ADLV04YWJA1BD', asin=u'B0002VAZUM', overall=5.0, unixReviewTime=1377734400),\n",
       " Row(reviewerID=u'A2AH0KVNXPTO9E', asin=u'B001UFLP30', overall=5.0, unixReviewTime=1371427200),\n",
       " Row(reviewerID=u'A188UOC1VDA3JZ', asin=u'B001SIS14U', overall=5.0, unixReviewTime=1371772800),\n",
       " Row(reviewerID=u'A3AQS2SNN2GNMB', asin=u'B0002AT3M4', overall=1.0, unixReviewTime=1358467200),\n",
       " Row(reviewerID=u'A29L3MTNZGMCU0', asin=u'B000HHM6FI', overall=2.0, unixReviewTime=1302048000),\n",
       " Row(reviewerID=u'AKLRY0PJSUZST', asin=u'B004PWXKJC', overall=5.0, unixReviewTime=1395273600),\n",
       " Row(reviewerID=u'A1UPJ6FDCHA0E0', asin=u'B000O5DI3W', overall=5.0, unixReviewTime=1321660800)]"
      ]
     },
     "execution_count": 10,
     "metadata": {},
     "output_type": "execute_result"
    }
   ],
   "source": [
    "raw_ratings_df.rdd.takeSample(withReplacement=False, num=10)"
   ]
  },
  {
   "cell_type": "markdown",
   "metadata": {},
   "source": [
    "#### We need numeric IDs for users and items\n",
    "\n"
   ]
  },
  {
   "cell_type": "code",
   "execution_count": 13,
   "metadata": {
    "ExecuteTime": {
     "end_time": "2016-12-03T14:10:27.349608",
     "start_time": "2016-12-03T14:10:27.316039"
    },
    "collapsed": false
   },
   "outputs": [],
   "source": [
    "raw_ratings_df.registerTempTable('raw_ratings')"
   ]
  },
  {
   "cell_type": "code",
   "execution_count": 14,
   "metadata": {
    "ExecuteTime": {
     "end_time": "2016-12-03T14:10:31.718413",
     "start_time": "2016-12-03T14:10:30.614071"
    },
    "collapsed": false
   },
   "outputs": [
    {
     "name": "stdout",
     "output_type": "stream",
     "text": [
      "+--------------+\n",
      "|    reviewerID|\n",
      "+--------------+\n",
      "|A2I9LHH5LQC4RG|\n",
      "|A1FC6D8QO02H9U|\n",
      "| A8YROBZWPMZ8U|\n",
      "|A3ROGW4X5DFT2Y|\n",
      "| AXC3YXI1IORXP|\n",
      "|A1RICCJ679590M|\n",
      "|A3GGWOBLSL9ZJO|\n",
      "|A19C16DYVA5KXA|\n",
      "| AY6SOCFKS98FE|\n",
      "| A97SZOCQ8XEFL|\n",
      "| AI8RX43O6P2M9|\n",
      "|A37ZCYH6TN8A19|\n",
      "|A1I5QUJRRY971J|\n",
      "| ABXSEQZLGP8UU|\n",
      "|A14QH5E4GBNG19|\n",
      "| A4S5QR5JIVMVR|\n",
      "|A1SUVGGTO7HI25|\n",
      "|A324GVROY4NYG7|\n",
      "| AMXCEKXAOS0IQ|\n",
      "|A2BGSTMS3OCWTQ|\n",
      "+--------------+\n",
      "only showing top 20 rows\n",
      "\n"
     ]
    }
   ],
   "source": [
    "reviewerID_df = spark.sql(\"\"\"\n",
    "SELECT reviewerID\n",
    "FROM raw_ratings\n",
    "GROUP BY reviewerID\n",
    "\"\"\")\n",
    "\n",
    "reviewerID_df.show()"
   ]
  },
  {
   "cell_type": "code",
   "execution_count": 15,
   "metadata": {
    "ExecuteTime": {
     "end_time": "2016-12-03T14:10:52.627831",
     "start_time": "2016-12-03T14:10:52.058962"
    },
    "collapsed": false
   },
   "outputs": [
    {
     "name": "stdout",
     "output_type": "stream",
     "text": [
      "+----------+\n",
      "|      asin|\n",
      "+----------+\n",
      "|6041027537|\n",
      "|B00002N8FK|\n",
      "|B00006OAM1|\n",
      "|B00008DFTI|\n",
      "|B00008DFTP|\n",
      "|B00008Q378|\n",
      "|B0002563BI|\n",
      "|B0002563UY|\n",
      "|B00025K1HU|\n",
      "|B00026068S|\n",
      "|B00028ZLNQ|\n",
      "|B0002APNFA|\n",
      "|B0002AQBCE|\n",
      "|B0002AQCXM|\n",
      "|B0002AQD1I|\n",
      "|B0002AQO5S|\n",
      "|B0002AQQVK|\n",
      "|B0002AR0DS|\n",
      "|B0002AS5BO|\n",
      "|B0002ASARI|\n",
      "+----------+\n",
      "only showing top 20 rows\n",
      "\n"
     ]
    }
   ],
   "source": [
    "asin_df = spark.sql(\"\"\"\n",
    "SELECT asin\n",
    "FROM raw_ratings\n",
    "GROUP BY asin\n",
    "\"\"\")\n",
    "asin_df.show()"
   ]
  },
  {
   "cell_type": "code",
   "execution_count": 16,
   "metadata": {
    "ExecuteTime": {
     "end_time": "2016-12-03T14:11:30.341279",
     "start_time": "2016-12-03T14:11:27.374271"
    },
    "collapsed": false
   },
   "outputs": [
    {
     "data": {
      "text/plain": [
       "[(Row(asin=u'B00BUSKW7C'), 10416),\n",
       " (Row(asin=u'B002XEO78M'), 67828),\n",
       " (Row(asin=u'B00ECNS9Z4'), 58374),\n",
       " (Row(asin=u'B000F9JDAY'), 68698),\n",
       " (Row(asin=u'B0002AQDF4'), 10514)]"
      ]
     },
     "execution_count": 16,
     "metadata": {},
     "output_type": "execute_result"
    }
   ],
   "source": [
    "asin_item_rdd = asin_df.rdd.zipWithIndex()\n",
    "asin_item_rdd.takeSample(withReplacement=False, num=5)"
   ]
  },
  {
   "cell_type": "code",
   "execution_count": 17,
   "metadata": {
    "ExecuteTime": {
     "end_time": "2016-12-03T14:12:08.939304",
     "start_time": "2016-12-03T14:12:07.489836"
    },
    "collapsed": false
   },
   "outputs": [
    {
     "data": {
      "text/plain": [
       "[(u'B00D44ZE2S', 78498),\n",
       " (u'B0002DICXM', 44191),\n",
       " (u'B00EUV6SCY', 34817),\n",
       " (u'B0040DOGOO', 3437),\n",
       " (u'B00B200VKG', 74823)]"
      ]
     },
     "execution_count": 17,
     "metadata": {},
     "output_type": "execute_result"
    }
   ],
   "source": [
    "asin_item_rdd = asin_item_rdd.map(lambda x: (x[0]['asin'], x[1]))\n",
    "asin_item_rdd.takeSample(withReplacement=False, num=5)"
   ]
  },
  {
   "cell_type": "code",
   "execution_count": 18,
   "metadata": {
    "ExecuteTime": {
     "end_time": "2016-12-03T14:12:31.951934",
     "start_time": "2016-12-03T14:12:30.682989"
    },
    "collapsed": false
   },
   "outputs": [
    {
     "name": "stdout",
     "output_type": "stream",
     "text": [
      "root\n",
      " |-- asin: string (nullable = true)\n",
      " |-- item: integer (nullable = true)\n",
      "\n",
      "+----------+----+\n",
      "|      asin|item|\n",
      "+----------+----+\n",
      "|6041027537|   0|\n",
      "|B00002N8FK|   1|\n",
      "|B00006OAM1|   2|\n",
      "|B00008DFTI|   3|\n",
      "|B00008DFTP|   4|\n",
      "|B00008Q378|   5|\n",
      "|B0002563BI|   6|\n",
      "|B0002563UY|   7|\n",
      "|B00025K1HU|   8|\n",
      "|B00026068S|   9|\n",
      "|B00028ZLNQ|  10|\n",
      "|B0002APNFA|  11|\n",
      "|B0002AQBCE|  12|\n",
      "|B0002AQCXM|  13|\n",
      "|B0002AQD1I|  14|\n",
      "|B0002AQO5S|  15|\n",
      "|B0002AQQVK|  16|\n",
      "|B0002AR0DS|  17|\n",
      "|B0002AS5BO|  18|\n",
      "|B0002ASARI|  19|\n",
      "+----------+----+\n",
      "only showing top 20 rows\n",
      "\n"
     ]
    }
   ],
   "source": [
    "asin_item_schema = StructType([\n",
    "    StructField('asin', StringType(), True),\n",
    "    StructField('item', IntegerType(), True),\n",
    "    ])\n",
    "asin_item_df = spark.createDataFrame(asin_item_rdd, asin_item_schema)\n",
    "asin_item_df\n",
    "asin_item_df.printSchema()\n",
    "asin_item_df.show()\n",
    "asin_item_df.registerTempTable(\"asin_item\")"
   ]
  },
  {
   "cell_type": "code",
   "execution_count": 19,
   "metadata": {
    "ExecuteTime": {
     "end_time": "2016-12-03T14:12:59.764982",
     "start_time": "2016-12-03T14:12:59.733721"
    },
    "collapsed": false
   },
   "outputs": [],
   "source": [
    "reviewerID_df = spark.sql(\"\"\"\n",
    "SELECT reviewerID\n",
    "FROM raw_ratings\n",
    "GROUP BY reviewerID\n",
    "\"\"\")"
   ]
  },
  {
   "cell_type": "code",
   "execution_count": 20,
   "metadata": {
    "ExecuteTime": {
     "end_time": "2016-12-03T14:13:02.121267",
     "start_time": "2016-12-03T14:13:00.105092"
    },
    "collapsed": false
   },
   "outputs": [
    {
     "name": "stdout",
     "output_type": "stream",
     "text": [
      "root\n",
      " |-- reviewerID: string (nullable = true)\n",
      " |-- user: integer (nullable = true)\n",
      "\n",
      "+--------------+----+\n",
      "|    reviewerID|user|\n",
      "+--------------+----+\n",
      "|A2I9LHH5LQC4RG|   0|\n",
      "|A1FC6D8QO02H9U|   1|\n",
      "| A8YROBZWPMZ8U|   2|\n",
      "|A3ROGW4X5DFT2Y|   3|\n",
      "| AXC3YXI1IORXP|   4|\n",
      "|A1RICCJ679590M|   5|\n",
      "|A3GGWOBLSL9ZJO|   6|\n",
      "|A19C16DYVA5KXA|   7|\n",
      "| AY6SOCFKS98FE|   8|\n",
      "| A97SZOCQ8XEFL|   9|\n",
      "| AI8RX43O6P2M9|  10|\n",
      "|A37ZCYH6TN8A19|  11|\n",
      "|A1I5QUJRRY971J|  12|\n",
      "| ABXSEQZLGP8UU|  13|\n",
      "|A14QH5E4GBNG19|  14|\n",
      "| A4S5QR5JIVMVR|  15|\n",
      "|A1SUVGGTO7HI25|  16|\n",
      "|A324GVROY4NYG7|  17|\n",
      "| AMXCEKXAOS0IQ|  18|\n",
      "|A2BGSTMS3OCWTQ|  19|\n",
      "+--------------+----+\n",
      "only showing top 20 rows\n",
      "\n"
     ]
    }
   ],
   "source": [
    "reviewerID_user_rdd = reviewerID_df.rdd.zipWithIndex()\n",
    "reviewerID_user_rdd = reviewerID_user_rdd.map(lambda x: (x[0]['reviewerID'], x[1]))\n",
    "reviewerID_user_schema = StructType([\n",
    "    StructField('reviewerID', StringType(), True),\n",
    "    StructField('user', IntegerType(), True),\n",
    "    ])\n",
    "reviewerID_user_df = spark.createDataFrame(reviewerID_user_rdd, reviewerID_user_schema)\n",
    "reviewerID_user_df.printSchema()\n",
    "reviewerID_user_df.show()\n",
    "reviewerID_user_df.registerTempTable(\"reviewerID_user\")"
   ]
  },
  {
   "cell_type": "code",
   "execution_count": null,
   "metadata": {
    "ExecuteTime": {
     "end_time": "2016-12-03T13:51:32.663355",
     "start_time": "2016-12-03T13:51:32.629642"
    },
    "collapsed": false
   },
   "outputs": [],
   "source": [
    "ratings_df = spark.sql(\"\"\"\n",
    "SELECT\n",
    "  raw_ratings.reviewerID\n",
    ", reviewerID_user.user\n",
    ", raw_ratings.asin\n",
    ", asin_item.item\n",
    ", raw_ratings.overall\n",
    ", raw_ratings.unixReviewTime\n",
    "FROM raw_ratings\n",
    "INNER JOIN reviewerID_user ON\n",
    "  (reviewerID_user.reviewerID = raw_ratings.reviewerID)\n",
    "INNER JOIN asin_item ON\n",
    "  (asin_item.asin = raw_ratings.asin)\n",
    "\"\"\")\n",
    "\n",
    "ratings_df.printSchema()"
   ]
  },
  {
   "cell_type": "code",
   "execution_count": null,
   "metadata": {
    "ExecuteTime": {
     "end_time": "2016-12-03T13:18:01.114796",
     "start_time": "2016-12-03T13:18:00.187619"
    },
    "collapsed": false
   },
   "outputs": [],
   "source": [
    "ratings_df.show()"
   ]
  },
  {
   "cell_type": "code",
   "execution_count": null,
   "metadata": {
    "ExecuteTime": {
     "end_time": "2016-12-03T13:51:43.256053",
     "start_time": "2016-12-03T13:51:43.233780"
    },
    "collapsed": true
   },
   "outputs": [],
   "source": [
    "# Register the new ratings dataframe as an SQL table\n",
    "ratings_df.registerTempTable(\"ratings\")"
   ]
  },
  {
   "cell_type": "code",
   "execution_count": null,
   "metadata": {
    "ExecuteTime": {
     "end_time": "2016-12-03T13:51:43.840105",
     "start_time": "2016-12-03T13:51:43.810561"
    },
    "collapsed": false
   },
   "outputs": [],
   "source": [
    "# Train/Test Split\n",
    "train, test = ratings_df.randomSplit([0.8, 0.2])"
   ]
  },
  {
   "cell_type": "code",
   "execution_count": null,
   "metadata": {
    "ExecuteTime": {
     "end_time": "2016-12-03T13:52:14.477744",
     "start_time": "2016-12-03T13:51:45.227796"
    },
    "collapsed": false
   },
   "outputs": [],
   "source": [
    "als = ALS(rank=10, maxIter=5, seed=0, regParam=0.1, implicitPrefs=False,\n",
    "          userCol=\"user\", itemCol=\"item\", ratingCol=\"overall\", nonnegative=True)\n",
    "model = als.fit(train)"
   ]
  },
  {
   "cell_type": "code",
   "execution_count": null,
   "metadata": {
    "ExecuteTime": {
     "end_time": "2016-12-03T13:52:14.754313",
     "start_time": "2016-12-03T13:52:14.479040"
    },
    "collapsed": false
   },
   "outputs": [],
   "source": [
    "predictions = model.transform(test).persist()"
   ]
  },
  {
   "cell_type": "code",
   "execution_count": null,
   "metadata": {
    "ExecuteTime": {
     "end_time": "2016-12-03T13:52:14.781110",
     "start_time": "2016-12-03T13:52:14.755776"
    },
    "collapsed": true
   },
   "outputs": [],
   "source": [
    "predictions.registerTempTable(\"predictions\")"
   ]
  },
  {
   "cell_type": "code",
   "execution_count": null,
   "metadata": {
    "ExecuteTime": {
     "end_time": "2016-12-03T13:52:43.188243",
     "start_time": "2016-12-03T13:52:14.782470"
    },
    "collapsed": false,
    "scrolled": false
   },
   "outputs": [],
   "source": [
    "predictions.show()"
   ]
  },
  {
   "cell_type": "code",
   "execution_count": null,
   "metadata": {
    "ExecuteTime": {
     "end_time": "2016-12-03T13:52:45.186987",
     "start_time": "2016-12-03T13:52:43.190407"
    },
    "collapsed": false
   },
   "outputs": [],
   "source": [
    "spark.sql(\"\"\"\n",
    "SELECT * FROM predictions\n",
    "WHERE NOT ISNAN(prediction)\n",
    "ORDER BY prediction DESC\n",
    "\"\"\").show()"
   ]
  },
  {
   "cell_type": "code",
   "execution_count": null,
   "metadata": {
    "ExecuteTime": {
     "end_time": "2016-12-03T13:52:45.682485",
     "start_time": "2016-12-03T13:52:45.188461"
    },
    "collapsed": false
   },
   "outputs": [],
   "source": [
    "spark.sql(\"\"\"\n",
    "SELECT * FROM predictions\n",
    "WHERE NOT ISNAN(prediction)\n",
    "ORDER BY prediction\n",
    "\"\"\").show()"
   ]
  },
  {
   "cell_type": "code",
   "execution_count": null,
   "metadata": {
    "collapsed": true
   },
   "outputs": [],
   "source": []
  }
 ],
 "metadata": {
  "kernelspec": {
   "display_name": "Python 2",
   "language": "python",
   "name": "python2"
  },
  "language_info": {
   "codemirror_mode": {
    "name": "ipython",
    "version": 2
   },
   "file_extension": ".py",
   "mimetype": "text/x-python",
   "name": "python",
   "nbconvert_exporter": "python",
   "pygments_lexer": "ipython2",
   "version": "2.7.11"
  }
 },
 "nbformat": 4,
 "nbformat_minor": 0
}
