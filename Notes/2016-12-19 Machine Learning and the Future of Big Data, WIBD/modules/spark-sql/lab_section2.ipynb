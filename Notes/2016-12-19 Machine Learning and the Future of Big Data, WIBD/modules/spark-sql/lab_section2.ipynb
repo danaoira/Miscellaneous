{
 "cells": [
  {
   "cell_type": "markdown",
   "metadata": {},
   "source": [
    "# Lab Section 2\n",
    "\n",
    "-----\n",
    "Part 1: DataFrames > RDD\n",
    "-----\n",
    "\n",
    "Repeat the previous lab on Apple Stock prices using a DataFrame instead of RDD.\n",
    "\n",
    "Hints:\n",
    "\n",
    "- Load the table with code similar to snippet in the lecture\n",
    "- Double check schema\n",
    "- `cast` columns if necessary\n",
    "\n",
    "-----\n",
    "Part 2: Monthly Airline Passenger Numbers\n",
    "-----\n",
    "\n",
    "We are going to explore the classic [Box & Jenkins airline data](https://stat.ethz.ch/R-manual/R-devel/library/datasets/html/AirPassengers.html)\n",
    "\n",
    "It is dated and not big data, but it is good practice for our data munging and fundamental data manipulation skills.\n",
    "\n",
    "A) Convert to Spark DataFrame.\n",
    "\n",
    "```python\n",
    "# Load data\n",
    "dataPath = \"dbfs:/databricks-datasets/Rdatasets/data-001/csv/datasets/AirPassengers.csv\"\n",
    "file_rdd = sc.textFile(dataPath)\n",
    "file_rdd.take(14)\n",
    "```\n",
    "Note: The funky encoding of month as a decimal.\n",
    "\n",
    "B) Get to know your data: \n",
    "\n",
    "- How many records are there?\n",
    "- What is most number of passengers? \n",
    "- What is the least number of passengers?\n",
    "- Are there any errors or \"dirty\" data?\n",
    "\n",
    "C) Ignoring month, what is the average number of passengers by year?\n",
    "\n",
    "D) Transform the data to encode month in a more human readable format.\n",
    "\n",
    "For example:\n",
    "\n",
    "| year | month | n_passengers |   \n",
    "|:-------:|:------:| :--: |\n",
    "| 1949 | 1 | 112 |\n",
    "| 1949 | 2 | 118 | \n",
    "\n",
    "E) Ignoring year, what is the average number of passengers by month? \n",
    "\n",
    "F) Write a short summary of the data:\n"
   ]
  },
  {
   "cell_type": "code",
   "execution_count": null,
   "metadata": {
    "collapsed": true
   },
   "outputs": [],
   "source": []
  }
 ],
 "metadata": {
  "kernelspec": {
   "display_name": "Python 2",
   "language": "python",
   "name": "python2"
  },
  "language_info": {
   "codemirror_mode": {
    "name": "ipython",
    "version": 2
   },
   "file_extension": ".py",
   "mimetype": "text/x-python",
   "name": "python",
   "nbconvert_exporter": "python",
   "pygments_lexer": "ipython2",
   "version": "2.7.11"
  }
 },
 "nbformat": 4,
 "nbformat_minor": 0
}
